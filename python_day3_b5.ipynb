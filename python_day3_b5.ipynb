{
 "cells": [
  {
   "cell_type": "code",
   "execution_count": null,
   "metadata": {},
   "outputs": [],
   "source": [
    "Introduction to Lists:\n",
    "    \n",
    "    -Defination: A list is a collection of items in a particular order.\n",
    "    - List is a mutable data type(we can able to change and modify once the its get assigned as well\n",
    "                                 \n",
    "                        )\n",
    "    "
   ]
  },
  {
   "cell_type": "code",
   "execution_count": 1,
   "metadata": {},
   "outputs": [
    {
     "name": "stdout",
     "output_type": "stream",
     "text": [
      "['sudha', 'karuni', 'venkat', 'danish', 'bhargavi']\n"
     ]
    }
   ],
   "source": [
    "#how to define a list: []\n",
    "\n",
    "students = ['sudha','karuni','venkat','danish','bhargavi']\n",
    "\n",
    "print(students)\n"
   ]
  },
  {
   "cell_type": "code",
   "execution_count": 2,
   "metadata": {},
   "outputs": [
    {
     "data": {
      "text/plain": [
       "list"
      ]
     },
     "execution_count": 2,
     "metadata": {},
     "output_type": "execute_result"
    }
   ],
   "source": [
    "type(students)"
   ]
  },
  {
   "cell_type": "code",
   "execution_count": null,
   "metadata": {},
   "outputs": [],
   "source": [
    "#how to access the list elements!\n",
    "\n",
    "indexing: ------> indexing starts from 0.\n",
    "    \n",
    "    index - 0 --> sudha\n",
    "    index -1 ---> karuni\n"
   ]
  },
  {
   "cell_type": "code",
   "execution_count": 5,
   "metadata": {},
   "outputs": [
    {
     "name": "stdout",
     "output_type": "stream",
     "text": [
      "Danish\n"
     ]
    }
   ],
   "source": [
    "print(students[3].title())"
   ]
  },
  {
   "cell_type": "code",
   "execution_count": 7,
   "metadata": {},
   "outputs": [
    {
     "name": "stdout",
     "output_type": "stream",
     "text": [
      "you are doing good job, Bhargavi.keep up the good work!\n"
     ]
    }
   ],
   "source": [
    "message = f\"you are doing good job, {students[4].title()}.keep up the good work!\"\n",
    "\n",
    "print(message)"
   ]
  },
  {
   "cell_type": "code",
   "execution_count": null,
   "metadata": {},
   "outputs": [],
   "source": [
    "***#changing, adding and removing elements in a list\n",
    "\n"
   ]
  },
  {
   "cell_type": "code",
   "execution_count": 8,
   "metadata": {},
   "outputs": [
    {
     "name": "stdout",
     "output_type": "stream",
     "text": [
      "['bunty', 'divyasri', 'asrar', 'imran', 'reshma']\n",
      "['deep singh', 'divyasri', 'asrar', 'imran', 'reshma']\n"
     ]
    }
   ],
   "source": [
    "#1.chnaging the elements in a list.\n",
    "\n",
    "mystudents = ['bunty','divyasri','asrar','imran','reshma']\n",
    "print(mystudents)\n",
    "\n",
    "mystudents[0] ='deep singh'\n",
    "print(mystudents)"
   ]
  },
  {
   "cell_type": "code",
   "execution_count": 10,
   "metadata": {},
   "outputs": [
    {
     "name": "stdout",
     "output_type": "stream",
     "text": [
      "['deep singh', 'divyasri', 'asrar', 'imran', 'reshma']\n",
      "['deep singh', 'divyasri', 'asrar', 'imran', 'reshma', 'indrani']\n"
     ]
    }
   ],
   "source": [
    "#2. adding element in the list.\n",
    "\n",
    "print(mystudents)\n",
    "\n",
    "#req: add 'indrani' to the list below.....?\n",
    "\n",
    "mystudents.append('indrani')\n",
    "print(mystudents)\n",
    "\n",
    "#append ....add the element at the last**"
   ]
  },
  {
   "cell_type": "code",
   "execution_count": 11,
   "metadata": {},
   "outputs": [
    {
     "name": "stdout",
     "output_type": "stream",
     "text": [
      "['deep singh', 'divyasri', 'alapati', 'asrar', 'imran', 'reshma', 'indrani']\n"
     ]
    }
   ],
   "source": [
    "mystudents.insert(2, 'alapati')\n",
    "\n",
    "print(mystudents)"
   ]
  },
  {
   "cell_type": "code",
   "execution_count": 12,
   "metadata": {},
   "outputs": [
    {
     "name": "stdout",
     "output_type": "stream",
     "text": [
      "['divyasri', 'alapati', 'asrar', 'imran', 'reshma', 'indrani']\n"
     ]
    }
   ],
   "source": [
    "# removing elements from the list.\n",
    "\n",
    "del mystudents[0]\n",
    "\n",
    "print(mystudents)"
   ]
  },
  {
   "cell_type": "code",
   "execution_count": 16,
   "metadata": {},
   "outputs": [
    {
     "name": "stdout",
     "output_type": "stream",
     "text": [
      "['divyasri', 'alapati', 'asrar', 'imran', 'reshma']\n",
      "['divyasri', 'alapati', 'asrar', 'reshma']\n"
     ]
    }
   ],
   "source": [
    "#** pop()....method ---this is also used for removing elements from the list.\n",
    "\n",
    "#---> always it will remove the element from the last.\n",
    "\n",
    "print(mystudents)\n",
    "\n",
    "#mystudents.pop()\n",
    "\n",
    "#print(mystudents)\n",
    "\n",
    "mystudents.pop(3)\n",
    "\n",
    "print(mystudents)"
   ]
  },
  {
   "cell_type": "code",
   "execution_count": null,
   "metadata": {},
   "outputs": [],
   "source": []
  }
 ],
 "metadata": {
  "kernelspec": {
   "display_name": "Python 3",
   "language": "python",
   "name": "python3"
  },
  "language_info": {
   "codemirror_mode": {
    "name": "ipython",
    "version": 3
   },
   "file_extension": ".py",
   "mimetype": "text/x-python",
   "name": "python",
   "nbconvert_exporter": "python",
   "pygments_lexer": "ipython3",
   "version": "3.7.3"
  }
 },
 "nbformat": 4,
 "nbformat_minor": 2
}
