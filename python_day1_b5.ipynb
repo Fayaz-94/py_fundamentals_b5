{
 "cells": [
  {
   "cell_type": "code",
   "execution_count": null,
   "metadata": {},
   "outputs": [
    {
     "name": "stdout",
     "output_type": "stream",
     "text": [
      "Python 3.7.3 (default, Mar 27 2019, 16:54:48) \n",
      "[Clang 4.0.1 (tags/RELEASE_401/final)] :: Anaconda, Inc. on darwin\n",
      "Type \"help\", \"copyright\", \"credits\" or \"license\" for more information.\n",
      ">>> "
     ]
    }
   ],
   "source": [
    "!python"
   ]
  },
  {
   "cell_type": "code",
   "execution_count": null,
   "metadata": {},
   "outputs": [],
   "source": [
    "#understanding the variables ---> commenting\n",
    "\n",
    "#it is nothing but the assignment of names or labels to particular code.\n",
    "\n",
    "x = 5\n",
    "y = 6\n",
    "\n",
    "x+y"
   ]
  },
  {
   "cell_type": "code",
   "execution_count": null,
   "metadata": {},
   "outputs": [],
   "source": [
    "#conditions to be remembered while assigning the names to the variables.\n",
    "\n",
    "#1. there shoudn't be any spaces in between the variable name\n",
    "\n",
    "Eg: first name = shaik ----->wrong approach\n",
    "    \n",
    "    firstname  = shaik or first_name = shaik ----> correct approach\n",
    "    \n",
    "#2. we shoudn't use any numbers with the strating of the var name.\n",
    "\n",
    "eg: 1abc = something -------> wrong approach\n",
    "    \n",
    "    abc1 = -------> correct approach\n",
    "    \n",
    "# we shoudn't use any special characters while declaring a variable name\n",
    "\n",
    "\n",
    "eg: $xyz = something --------> wrong approach."
   ]
  },
  {
   "cell_type": "code",
   "execution_count": null,
   "metadata": {},
   "outputs": [],
   "source": [
    "#1. Introduction to Data types in python\n",
    "\n",
    "#. String - Introdcution:\n",
    "\n",
    "A string is nothing but a series of charcters.\n",
    "\n",
    "#how to define a string?\n",
    "\n",
    "Any thing in between the quotes is considered as a string.\n",
    "\n",
    "Eg : 'this is a string' or \"this is a string\" or \"\"\"this is a string\"\"\"ty\n",
    "    \n",
    "    \n",
    "    # string is an immutable data type:\n",
    "    \n",
    "    immutable : once the value gets assigned to it , it cant be changed or modified\n",
    "        \n",
    "     #string ----> str\n",
    "    \n",
    "    #python is a case sensitive lang.\n",
    "        "
   ]
  },
  {
   "cell_type": "code",
   "execution_count": 1,
   "metadata": {},
   "outputs": [
    {
     "name": "stdout",
     "output_type": "stream",
     "text": [
      "python\n"
     ]
    }
   ],
   "source": [
    "#coding part\n",
    "\n",
    "x =  'python'\n",
    "\n",
    "print(x)"
   ]
  },
  {
   "cell_type": "code",
   "execution_count": 2,
   "metadata": {},
   "outputs": [
    {
     "data": {
      "text/plain": [
       "str"
      ]
     },
     "execution_count": 2,
     "metadata": {},
     "output_type": "execute_result"
    }
   ],
   "source": [
    "type(x)"
   ]
  },
  {
   "cell_type": "code",
   "execution_count": 3,
   "metadata": {},
   "outputs": [
    {
     "name": "stdout",
     "output_type": "stream",
     "text": [
      "divya sri\n"
     ]
    }
   ],
   "source": [
    "name = 'divya sri'#whitespaces\n",
    "\n",
    "print(name)"
   ]
  },
  {
   "cell_type": "code",
   "execution_count": 4,
   "metadata": {},
   "outputs": [
    {
     "name": "stdout",
     "output_type": "stream",
     "text": [
      "Divya Sri\n"
     ]
    }
   ],
   "source": [
    "print(name.title()) # title() ---> title case ---"
   ]
  },
  {
   "cell_type": "code",
   "execution_count": 5,
   "metadata": {},
   "outputs": [
    {
     "name": "stdout",
     "output_type": "stream",
     "text": [
      "DIVYA SRI\n"
     ]
    }
   ],
   "source": [
    "print(name.upper())"
   ]
  },
  {
   "cell_type": "code",
   "execution_count": 6,
   "metadata": {},
   "outputs": [
    {
     "name": "stdout",
     "output_type": "stream",
     "text": [
      "divya sri\n"
     ]
    }
   ],
   "source": [
    "print(name.lower())"
   ]
  },
  {
   "cell_type": "code",
   "execution_count": 9,
   "metadata": {},
   "outputs": [
    {
     "name": "stdout",
     "output_type": "stream",
     "text": [
      "manish rai\n",
      "Manish Rai\n",
      "Hello, manish rai! welcome back\n"
     ]
    }
   ],
   "source": [
    "# F-Strings ----> by using the place holders\n",
    "\n",
    "#manish rai\n",
    "\n",
    "first_name = 'manish'\n",
    "last_name = 'rai'\n",
    "\n",
    "full_name =f\"{first_name} {last_name}\"\n",
    "\n",
    "print(full_name)\n",
    "\n",
    "print(full_name.title())\n",
    "\n",
    "print(f\"Hello, {full_name}! welcome back\")\n",
    "\n"
   ]
  },
  {
   "cell_type": "code",
   "execution_count": null,
   "metadata": {},
   "outputs": [],
   "source": [
    "codetraining01@gmail.com"
   ]
  },
  {
   "cell_type": "code",
   "execution_count": null,
   "metadata": {},
   "outputs": [],
   "source": [
    "\n",
    "www.anaconda.com\n",
    "\n",
    "www.github.com\n",
    "\n",
    "\n",
    "\n"
   ]
  },
  {
   "cell_type": "code",
   "execution_count": null,
   "metadata": {},
   "outputs": [],
   "source": []
  },
  {
   "cell_type": "code",
   "execution_count": null,
   "metadata": {},
   "outputs": [],
   "source": []
  },
  {
   "cell_type": "code",
   "execution_count": null,
   "metadata": {},
   "outputs": [],
   "source": []
  }
 ],
 "metadata": {
  "kernelspec": {
   "display_name": "Python 3",
   "language": "python",
   "name": "python3"
  },
  "language_info": {
   "codemirror_mode": {
    "name": "ipython",
    "version": 3
   },
   "file_extension": ".py",
   "mimetype": "text/x-python",
   "name": "python",
   "nbconvert_exporter": "python",
   "pygments_lexer": "ipython3",
   "version": "3.7.3"
  }
 },
 "nbformat": 4,
 "nbformat_minor": 2
}
